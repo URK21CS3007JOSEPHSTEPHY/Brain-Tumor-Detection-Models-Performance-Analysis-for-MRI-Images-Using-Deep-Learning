{
  "nbformat": 4,
  "nbformat_minor": 0,
  "metadata": {
    "colab": {
      "provenance": []
    },
    "kernelspec": {
      "name": "python3",
      "display_name": "Python 3"
    },
    "language_info": {
      "name": "python"
    }
  },
  "cells": [
    {
      "cell_type": "code",
      "execution_count": 3,
      "metadata": {
        "colab": {
          "base_uri": "https://localhost:8080/"
        },
        "id": "F2giR-mcli6v",
        "outputId": "ebf0d4de-f532-44af-d934-5681a9bcadd4"
      },
      "outputs": [
        {
          "output_type": "stream",
          "name": "stdout",
          "text": [
            "Mounted at /content/drive\n"
          ]
        }
      ],
      "source": [
        "#Making Hybrid Model Prediction\n",
        "# Mount Google Drive\n",
        "drive.mount('/content/drive')"
      ]
    },
    {
      "cell_type": "code",
      "source": [
        "#Importing Neccassary Libraries\n",
        "from google.colab import drive\n",
        "from tensorflow.keras.models import load_model\n",
        "from tensorflow.keras.preprocessing import image\n",
        "import numpy as np"
      ],
      "metadata": {
        "id": "bzaKKdNAl5Nv"
      },
      "execution_count": 2,
      "outputs": []
    },
    {
      "cell_type": "code",
      "source": [
        "# Loading the pre-trained models\n",
        "model_dir = '/content/drive/My Drive/model/'\n",
        "model_paths = {\n",
        "    \"InceptionV3\": model_dir + \"inceptionv3_best.h5\",\n",
        "    \"VGG19\": model_dir + \"vgg19_best.h5\",\n",
        "    \"VGG16\": model_dir + \"vgg16_best.h5\",\n",
        "    \"Resnet50\": model_dir + \"resnet50_best.h5\"\n",
        "}\n",
        "models = {name: load_model(path) for name, path in model_paths.items()}\n",
        "def preprocess_image(img_path, size):\n",
        "    img = image.load_img(img_path, target_size=size)\n",
        "    img_array = image.img_to_array(img)\n",
        "    img_array = np.expand_dims(img_array, axis=0)\n",
        "    return img_array / 255.0"
      ],
      "metadata": {
        "id": "O38DWb6_l5Wh"
      },
      "execution_count": 4,
      "outputs": []
    },
    {
      "cell_type": "code",
      "source": [
        "#Hybrid Prediction\n",
        "def predict_with_models(img_path, models):\n",
        "    tumor_predictions = []\n",
        "    for name, model in models.items():\n",
        "        size = (150, 150) if name == \"VGG19\" else (299, 299)\n",
        "        preprocessed_img = preprocess_image(img_path, size)\n",
        "        prediction = model.predict(preprocessed_img)\n",
        "        binary_prediction = 1 if prediction[0][0] > 0.5 else 0\n",
        "        tumor_predictions.append(binary_prediction)\n",
        "    return tumor_predictions"
      ],
      "metadata": {
        "id": "ZWOkO6pgl5i1"
      },
      "execution_count": 5,
      "outputs": []
    },
    {
      "cell_type": "code",
      "source": [
        "# Prediction making\n",
        "def predict_with_hybrid_model(img_path, models):\n",
        "    predictions = predict_with_models(img_path, models)\n",
        "    combined_prediction = np.mean(predictions)\n",
        "    if combined_prediction > 0.6:\n",
        "        return \"YES BRAIN TUMOR\"\n",
        "    else:\n",
        "        return \"NO BRAIN TUMOR\""
      ],
      "metadata": {
        "id": "wgzl8J_gl7bn"
      },
      "execution_count": 6,
      "outputs": []
    },
    {
      "cell_type": "code",
      "source": [
        "#Input:\n",
        "input_image_path = \"/content/drive/MyDrive/Brain Tumor MRI/yes/Y1.jpg\"\n",
        "prediction = predict_with_hybrid_model(input_image_path, models)\n",
        "print(prediction)"
      ],
      "metadata": {
        "colab": {
          "base_uri": "https://localhost:8080/"
        },
        "id": "NUHIjr5_l7vg",
        "outputId": "b96deeb2-9f93-4544-d93a-452fb449197f"
      },
      "execution_count": 7,
      "outputs": [
        {
          "output_type": "stream",
          "name": "stdout",
          "text": [
            "1/1 [==============================] - 3s 3s/step\n",
            "1/1 [==============================] - 0s 456ms/step\n",
            "1/1 [==============================] - 1s 1s/step\n",
            "1/1 [==============================] - 2s 2s/step\n",
            "YES BRAIN TUMOR\n"
          ]
        }
      ]
    }
  ]
}