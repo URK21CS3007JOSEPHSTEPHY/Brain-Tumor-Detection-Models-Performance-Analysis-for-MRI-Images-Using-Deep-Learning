{
  "nbformat": 4,
  "nbformat_minor": 0,
  "metadata": {
    "colab": {
      "provenance": []
    },
    "kernelspec": {
      "name": "python3",
      "display_name": "Python 3"
    },
    "language_info": {
      "name": "python"
    }
  },
  "cells": [
    {
      "cell_type": "code",
      "execution_count": 3,
      "metadata": {
        "colab": {
          "base_uri": "https://localhost:8080/"
        },
        "id": "RLVBQfJHf0P_",
        "outputId": "a05a4e40-c899-4a38-cd80-ee58e2dbf9af"
      },
      "outputs": [
        {
          "output_type": "stream",
          "name": "stdout",
          "text": [
            "Drive already mounted at /content/drive; to attempt to forcibly remount, call drive.mount(\"/content/drive\", force_remount=True).\n"
          ]
        }
      ],
      "source": [
        "#Mounting The Drive\n",
        "from google.colab import drive\n",
        "drive.mount('/content/drive')"
      ]
    },
    {
      "cell_type": "code",
      "source": [
        "#Importing Neccassary Libraries\n",
        "from google.colab import drive\n",
        "from PIL import Image\n",
        "import numpy as np\n",
        "from tensorflow.keras.models import load_model\n",
        "from tensorflow.keras.preprocessing import image"
      ],
      "metadata": {
        "id": "qS9AFJtZvmC4"
      },
      "execution_count": 105,
      "outputs": []
    },
    {
      "cell_type": "code",
      "source": [
        "# Loading The Models\n",
        "model_dir = '/content/drive/My Drive/model/'\n",
        "model_paths = {\n",
        "    \"InceptionV3\": model_dir + \"inceptionv3_best.h5\",\n",
        "    \"VGG19\": model_dir + \"vgg19_best.h5\",\n",
        "    \"VGG16\": model_dir + \"vgg16_best.h5\",\n",
        "    \"Resnet50\": model_dir + \"resnet50_best.h5\"\n",
        "}\n",
        "models = {name: load_model(path) for name, path in model_paths.items()}"
      ],
      "metadata": {
        "id": "ZUI1PhBR96lG"
      },
      "execution_count": 106,
      "outputs": []
    },
    {
      "cell_type": "code",
      "source": [
        "# Function To Preprocess Image\n",
        "def preprocess_image(img, size):\n",
        "    img = img.resize(size)\n",
        "    img_array = image.img_to_array(img)\n",
        "    img_array = np.expand_dims(img_array, axis=0)\n",
        "    return img_array / 255."
      ],
      "metadata": {
        "id": "Z96hRQXT96xp"
      },
      "execution_count": 107,
      "outputs": []
    },
    {
      "cell_type": "code",
      "source": [
        "# Function To Perform Prediction\n",
        "def predict_with_model(img, model, size):\n",
        "    img_array = preprocess_image(img, size)\n",
        "    prediction = model.predict(img_array)\n",
        "    if prediction[0][0] > 0.5:\n",
        "        return \"The Person Is Affected By Brain Tumor\"\n",
        "    else:\n",
        "        return \"The Person Is Not Affected By Brain Tumor\""
      ],
      "metadata": {
        "id": "6qaW1Aos-H98"
      },
      "execution_count": 108,
      "outputs": []
    },
    {
      "cell_type": "code",
      "source": [
        "# Loading The Input Image\n",
        "input_image_path = \"/content/drive/MyDrive/Brain Tumor MRI/no/34 no.jpg\"\n",
        "input_image = Image.open(input_image_path)"
      ],
      "metadata": {
        "id": "TxrHWRY5-MCg"
      },
      "execution_count": 128,
      "outputs": []
    },
    {
      "cell_type": "code",
      "source": [
        "# Performing Prediction For Each Model\n",
        "results = {}\n",
        "for name, model, size in [\n",
        "    (\"InceptionV3 Model Prediction\", models[\"InceptionV3\"], (299, 299)),\n",
        "    (\"VGG19 Model Prediction\", models[\"VGG19\"], (150,150)),\n",
        "    (\"VGG16 Model Prediction\", models[\"VGG16\"], (299, 299)),\n",
        "    (\"Resnet50 Model Prediction\", models[\"Resnet50\"], (299, 299))\n",
        "    ]:\n",
        "    if name == \"VGG16\" or name == \"Resnet50\":\n",
        "        input_image_resized = input_image.resize(size)\n",
        "    else:\n",
        "        input_image_resized = input_image\n",
        "    results[name] = predict_with_model(input_image_resized, model, size)\n",
        "\n",
        "# Printing the result\n",
        "for name, result in results.items():\n",
        "    print(f\"{name} : {result}\")"
      ],
      "metadata": {
        "colab": {
          "base_uri": "https://localhost:8080/"
        },
        "id": "FWzcCKX8HUV7",
        "outputId": "830889ca-2dea-4875-92c6-6729a6df0135"
      },
      "execution_count": 129,
      "outputs": [
        {
          "output_type": "stream",
          "name": "stdout",
          "text": [
            "1/1 [==============================] - 0s 343ms/step\n",
            "1/1 [==============================] - 1s 570ms/step\n",
            "1/1 [==============================] - 2s 2s/step\n",
            "1/1 [==============================] - 0s 354ms/step\n",
            "InceptionV3 Model Prediction : The Person Is Not Affected By Brain Tumor\n",
            "VGG19 Model Prediction : The Person Is Not Affected By Brain Tumor\n",
            "VGG16 Model Prediction : The Person Is Not Affected By Brain Tumor\n",
            "Resnet50 Model Prediction : The Person Is Affected By Brain Tumor\n"
          ]
        }
      ]
    }
  ]
}